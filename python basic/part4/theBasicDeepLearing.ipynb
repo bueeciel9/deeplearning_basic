{
  "nbformat": 4,
  "nbformat_minor": 0,
  "metadata": {
    "colab": {
      "name": "theBasicDeepLearing.ipynb",
      "provenance": []
    },
    "kernelspec": {
      "name": "python3",
      "display_name": "Python 3"
    }
  },
  "cells": [
    {
      "cell_type": "code",
      "metadata": {
        "colab": {
          "base_uri": "https://localhost:8080/"
        },
        "id": "Tjg0Ovk0KNuB",
        "outputId": "ee707a66-c70d-44c6-d9ae-854e1fc692f5"
      },
      "source": [
        "# TensorFlow and tf.keras\n",
        "import tensorflow as tf\n",
        "from tensorflow import keras\n",
        "# Helper libraries\n",
        "import numpy as np\n",
        "import matplotlib.pyplot as plt\n",
        "\n",
        "print(tf.__version__)"
      ],
      "execution_count": 1,
      "outputs": [
        {
          "output_type": "stream",
          "text": [
            "2.4.1\n"
          ],
          "name": "stdout"
        }
      ]
    },
    {
      "cell_type": "code",
      "metadata": {
        "id": "MY0L4QFONDWA"
      },
      "source": [
        "# Define Constants\n",
        "batch_size = 128\n",
        "epochs = 100\n",
        "num_classes = 10"
      ],
      "execution_count": 2,
      "outputs": []
    },
    {
      "cell_type": "code",
      "metadata": {
        "colab": {
          "base_uri": "https://localhost:8080/"
        },
        "id": "g0lfEY3zNQ4R",
        "outputId": "d57d745b-e357-4208-aed6-434e7d876010"
      },
      "source": [
        "# Download MNIST dataset.\n",
        "mnist = keras.datasets.mnist\n",
        "(train_images, train_labels), (test_images, test_labels) = mnist.load_data()"
      ],
      "execution_count": 3,
      "outputs": [
        {
          "output_type": "stream",
          "text": [
            "Downloading data from https://storage.googleapis.com/tensorflow/tf-keras-datasets/mnist.npz\n",
            "11493376/11490434 [==============================] - 0s 0us/step\n"
          ],
          "name": "stdout"
        }
      ]
    },
    {
      "cell_type": "code",
      "metadata": {
        "colab": {
          "base_uri": "https://localhost:8080/"
        },
        "id": "_PSXEcFYN6Ve",
        "outputId": "98c704b3-3284-4c2c-f4e2-f9e43d7a0fae"
      },
      "source": [
        "len(train_images), len(test_images)"
      ],
      "execution_count": 5,
      "outputs": [
        {
          "output_type": "execute_result",
          "data": {
            "text/plain": [
              "(60000, 10000)"
            ]
          },
          "metadata": {
            "tags": []
          },
          "execution_count": 5
        }
      ]
    },
    {
      "cell_type": "code",
      "metadata": {
        "id": "UsCWuYq3ODEY"
      },
      "source": [
        "# Normalize the input image so that each pixel value is between 0 to 1.\n",
        "train_images = train_images / 255.0\n",
        "test_images = test_images / 255.0"
      ],
      "execution_count": 6,
      "outputs": []
    },
    {
      "cell_type": "code",
      "metadata": {
        "id": "n1o42RgTOVqy"
      },
      "source": [
        "# Define the model architecture\n",
        "model = keras.Sequential([\n",
        "                         keras.layers.Flatten(input_shape=(28,28)),\n",
        "                         keras.layers.Dense(128, activation=tf.nn.relu),\n",
        "                         keras.layers.Dense(num_classes, activation='softmax')\n",
        "])\n",
        "model.compile(optimizer='adam',\n",
        "              loss=tf.keras.losses.SparseCategoricalCrossentropy(from_logits=True),\n",
        "              metrics=['accuracy'])"
      ],
      "execution_count": 9,
      "outputs": []
    },
    {
      "cell_type": "code",
      "metadata": {
        "colab": {
          "base_uri": "https://localhost:8080/"
        },
        "id": "TvcFDQTXPf2j",
        "outputId": "463680dc-f0da-4642-ba4d-8aa6e554c69d"
      },
      "source": [
        "history = model.fit(train_images, train_labels, epochs=epochs, batch_size=batch_size)"
      ],
      "execution_count": 10,
      "outputs": [
        {
          "output_type": "stream",
          "text": [
            "Epoch 1/100\n",
            "469/469 [==============================] - 2s 4ms/step - loss: 0.6174 - accuracy: 0.8317\n",
            "Epoch 2/100\n",
            "469/469 [==============================] - 2s 4ms/step - loss: 0.1710 - accuracy: 0.9514\n",
            "Epoch 3/100\n",
            "469/469 [==============================] - 2s 3ms/step - loss: 0.1195 - accuracy: 0.9660\n",
            "Epoch 4/100\n",
            "469/469 [==============================] - 2s 4ms/step - loss: 0.0861 - accuracy: 0.9758\n",
            "Epoch 5/100\n",
            "469/469 [==============================] - 2s 3ms/step - loss: 0.0718 - accuracy: 0.9794\n",
            "Epoch 6/100\n",
            "469/469 [==============================] - 2s 3ms/step - loss: 0.0585 - accuracy: 0.9828\n",
            "Epoch 7/100\n",
            "469/469 [==============================] - 2s 4ms/step - loss: 0.0506 - accuracy: 0.9859\n",
            "Epoch 8/100\n",
            "469/469 [==============================] - 2s 3ms/step - loss: 0.0437 - accuracy: 0.9880\n",
            "Epoch 9/100\n",
            "469/469 [==============================] - 2s 3ms/step - loss: 0.0361 - accuracy: 0.9902\n",
            "Epoch 10/100\n",
            "469/469 [==============================] - 2s 4ms/step - loss: 0.0288 - accuracy: 0.9932\n",
            "Epoch 11/100\n",
            "469/469 [==============================] - 2s 4ms/step - loss: 0.0251 - accuracy: 0.9937\n",
            "Epoch 12/100\n",
            "469/469 [==============================] - 2s 4ms/step - loss: 0.0205 - accuracy: 0.9947\n",
            "Epoch 13/100\n",
            "469/469 [==============================] - 2s 4ms/step - loss: 0.0171 - accuracy: 0.9964\n",
            "Epoch 14/100\n",
            "469/469 [==============================] - 2s 4ms/step - loss: 0.0158 - accuracy: 0.9963\n",
            "Epoch 15/100\n",
            "469/469 [==============================] - 2s 3ms/step - loss: 0.0124 - accuracy: 0.9975\n",
            "Epoch 16/100\n",
            "469/469 [==============================] - 2s 4ms/step - loss: 0.0114 - accuracy: 0.9976\n",
            "Epoch 17/100\n",
            "469/469 [==============================] - 2s 4ms/step - loss: 0.0089 - accuracy: 0.9985\n",
            "Epoch 18/100\n",
            "469/469 [==============================] - 2s 3ms/step - loss: 0.0084 - accuracy: 0.9984\n",
            "Epoch 19/100\n",
            "469/469 [==============================] - 2s 3ms/step - loss: 0.0079 - accuracy: 0.9985\n",
            "Epoch 20/100\n",
            "469/469 [==============================] - 2s 4ms/step - loss: 0.0062 - accuracy: 0.9992\n",
            "Epoch 21/100\n",
            "469/469 [==============================] - 2s 4ms/step - loss: 0.0049 - accuracy: 0.9994\n",
            "Epoch 22/100\n",
            "469/469 [==============================] - 2s 4ms/step - loss: 0.0043 - accuracy: 0.9995\n",
            "Epoch 23/100\n",
            "469/469 [==============================] - 2s 4ms/step - loss: 0.0031 - accuracy: 0.9997\n",
            "Epoch 24/100\n",
            "469/469 [==============================] - 2s 3ms/step - loss: 0.0029 - accuracy: 0.9997\n",
            "Epoch 25/100\n",
            "469/469 [==============================] - 2s 3ms/step - loss: 0.0031 - accuracy: 0.9996\n",
            "Epoch 26/100\n",
            "469/469 [==============================] - 2s 3ms/step - loss: 0.0084 - accuracy: 0.9974\n",
            "Epoch 27/100\n",
            "469/469 [==============================] - 2s 3ms/step - loss: 0.0026 - accuracy: 0.9997\n",
            "Epoch 28/100\n",
            "469/469 [==============================] - 2s 3ms/step - loss: 0.0013 - accuracy: 0.9999\n",
            "Epoch 29/100\n",
            "469/469 [==============================] - 2s 4ms/step - loss: 0.0013 - accuracy: 0.9999\n",
            "Epoch 30/100\n",
            "469/469 [==============================] - 2s 3ms/step - loss: 9.0100e-04 - accuracy: 1.0000\n",
            "Epoch 31/100\n",
            "469/469 [==============================] - 2s 3ms/step - loss: 0.0025 - accuracy: 0.9994\n",
            "Epoch 32/100\n",
            "469/469 [==============================] - 2s 3ms/step - loss: 0.0098 - accuracy: 0.9966\n",
            "Epoch 33/100\n",
            "469/469 [==============================] - 2s 3ms/step - loss: 0.0013 - accuracy: 0.9999\n",
            "Epoch 34/100\n",
            "469/469 [==============================] - 2s 4ms/step - loss: 6.7795e-04 - accuracy: 1.0000\n",
            "Epoch 35/100\n",
            "469/469 [==============================] - 2s 4ms/step - loss: 4.4597e-04 - accuracy: 1.0000\n",
            "Epoch 36/100\n",
            "469/469 [==============================] - 2s 3ms/step - loss: 4.2762e-04 - accuracy: 1.0000\n",
            "Epoch 37/100\n",
            "469/469 [==============================] - 2s 3ms/step - loss: 3.7351e-04 - accuracy: 1.0000\n",
            "Epoch 38/100\n",
            "469/469 [==============================] - 2s 4ms/step - loss: 3.0518e-04 - accuracy: 1.0000\n",
            "Epoch 39/100\n",
            "469/469 [==============================] - 2s 4ms/step - loss: 0.0013 - accuracy: 0.9997\n",
            "Epoch 40/100\n",
            "469/469 [==============================] - 2s 4ms/step - loss: 0.0129 - accuracy: 0.9959\n",
            "Epoch 41/100\n",
            "469/469 [==============================] - 2s 4ms/step - loss: 0.0015 - accuracy: 0.9997\n",
            "Epoch 42/100\n",
            "469/469 [==============================] - 2s 4ms/step - loss: 5.0262e-04 - accuracy: 1.0000\n",
            "Epoch 43/100\n",
            "469/469 [==============================] - 2s 4ms/step - loss: 2.9201e-04 - accuracy: 1.0000\n",
            "Epoch 44/100\n",
            "469/469 [==============================] - 2s 3ms/step - loss: 2.5033e-04 - accuracy: 1.0000\n",
            "Epoch 45/100\n",
            "469/469 [==============================] - 2s 4ms/step - loss: 2.2589e-04 - accuracy: 1.0000\n",
            "Epoch 46/100\n",
            "469/469 [==============================] - 2s 4ms/step - loss: 1.9162e-04 - accuracy: 1.0000\n",
            "Epoch 47/100\n",
            "469/469 [==============================] - 2s 4ms/step - loss: 1.7797e-04 - accuracy: 1.0000\n",
            "Epoch 48/100\n",
            "469/469 [==============================] - 2s 3ms/step - loss: 1.5905e-04 - accuracy: 1.0000\n",
            "Epoch 49/100\n",
            "469/469 [==============================] - 2s 4ms/step - loss: 1.4349e-04 - accuracy: 1.0000\n",
            "Epoch 50/100\n",
            "469/469 [==============================] - 2s 4ms/step - loss: 0.0159 - accuracy: 0.9951\n",
            "Epoch 51/100\n",
            "469/469 [==============================] - 2s 4ms/step - loss: 0.0019 - accuracy: 0.9995\n",
            "Epoch 52/100\n",
            "469/469 [==============================] - 2s 4ms/step - loss: 3.7279e-04 - accuracy: 1.0000\n",
            "Epoch 53/100\n",
            "469/469 [==============================] - 2s 4ms/step - loss: 3.1921e-04 - accuracy: 1.0000\n",
            "Epoch 54/100\n",
            "469/469 [==============================] - 2s 4ms/step - loss: 1.6519e-04 - accuracy: 1.0000\n",
            "Epoch 55/100\n",
            "469/469 [==============================] - 2s 4ms/step - loss: 1.4180e-04 - accuracy: 1.0000\n",
            "Epoch 56/100\n",
            "469/469 [==============================] - 2s 4ms/step - loss: 1.3226e-04 - accuracy: 1.0000\n",
            "Epoch 57/100\n",
            "469/469 [==============================] - 2s 4ms/step - loss: 1.1212e-04 - accuracy: 1.0000\n",
            "Epoch 58/100\n",
            "469/469 [==============================] - 2s 4ms/step - loss: 1.0333e-04 - accuracy: 1.0000\n",
            "Epoch 59/100\n",
            "469/469 [==============================] - 2s 4ms/step - loss: 8.9511e-05 - accuracy: 1.0000\n",
            "Epoch 60/100\n",
            "469/469 [==============================] - 2s 4ms/step - loss: 8.2921e-05 - accuracy: 1.0000\n",
            "Epoch 61/100\n",
            "469/469 [==============================] - 2s 3ms/step - loss: 8.1245e-05 - accuracy: 1.0000\n",
            "Epoch 62/100\n",
            "469/469 [==============================] - 2s 3ms/step - loss: 0.0175 - accuracy: 0.9952\n",
            "Epoch 63/100\n",
            "469/469 [==============================] - 2s 4ms/step - loss: 0.0015 - accuracy: 0.9995\n",
            "Epoch 64/100\n",
            "469/469 [==============================] - 2s 3ms/step - loss: 3.5850e-04 - accuracy: 1.0000\n",
            "Epoch 65/100\n",
            "469/469 [==============================] - 2s 4ms/step - loss: 1.4253e-04 - accuracy: 1.0000\n",
            "Epoch 66/100\n",
            "469/469 [==============================] - 2s 4ms/step - loss: 1.1379e-04 - accuracy: 1.0000\n",
            "Epoch 67/100\n",
            "469/469 [==============================] - 2s 4ms/step - loss: 8.9678e-05 - accuracy: 1.0000\n",
            "Epoch 68/100\n",
            "469/469 [==============================] - 2s 4ms/step - loss: 9.0484e-05 - accuracy: 1.0000\n",
            "Epoch 69/100\n",
            "469/469 [==============================] - 2s 4ms/step - loss: 7.8427e-05 - accuracy: 1.0000\n",
            "Epoch 70/100\n",
            "469/469 [==============================] - 2s 4ms/step - loss: 7.1503e-05 - accuracy: 1.0000\n",
            "Epoch 71/100\n",
            "469/469 [==============================] - 2s 4ms/step - loss: 6.2085e-05 - accuracy: 1.0000\n",
            "Epoch 72/100\n",
            "469/469 [==============================] - 2s 3ms/step - loss: 5.6151e-05 - accuracy: 1.0000\n",
            "Epoch 73/100\n",
            "469/469 [==============================] - 2s 4ms/step - loss: 5.1106e-05 - accuracy: 1.0000\n",
            "Epoch 74/100\n",
            "469/469 [==============================] - 2s 4ms/step - loss: 4.3647e-05 - accuracy: 1.0000\n",
            "Epoch 75/100\n",
            "469/469 [==============================] - 2s 3ms/step - loss: 0.0039 - accuracy: 0.9989\n",
            "Epoch 76/100\n",
            "469/469 [==============================] - 2s 3ms/step - loss: 0.0046 - accuracy: 0.9985\n",
            "Epoch 77/100\n",
            "469/469 [==============================] - 2s 4ms/step - loss: 0.0011 - accuracy: 0.9996\n",
            "Epoch 78/100\n",
            "469/469 [==============================] - 2s 3ms/step - loss: 7.3963e-04 - accuracy: 0.9998\n",
            "Epoch 79/100\n",
            "469/469 [==============================] - 2s 4ms/step - loss: 1.0691e-04 - accuracy: 1.0000\n",
            "Epoch 80/100\n",
            "469/469 [==============================] - 2s 3ms/step - loss: 7.2845e-05 - accuracy: 1.0000\n",
            "Epoch 81/100\n",
            "469/469 [==============================] - 2s 4ms/step - loss: 6.9817e-05 - accuracy: 1.0000\n",
            "Epoch 82/100\n",
            "469/469 [==============================] - 2s 4ms/step - loss: 5.9286e-05 - accuracy: 1.0000\n",
            "Epoch 83/100\n",
            "469/469 [==============================] - 2s 4ms/step - loss: 5.0761e-05 - accuracy: 1.0000\n",
            "Epoch 84/100\n",
            "469/469 [==============================] - 2s 4ms/step - loss: 4.4417e-05 - accuracy: 1.0000\n",
            "Epoch 85/100\n",
            "469/469 [==============================] - 2s 4ms/step - loss: 4.1327e-05 - accuracy: 1.0000\n",
            "Epoch 86/100\n",
            "469/469 [==============================] - 2s 4ms/step - loss: 3.6127e-05 - accuracy: 1.0000\n",
            "Epoch 87/100\n",
            "469/469 [==============================] - 2s 4ms/step - loss: 3.3328e-05 - accuracy: 1.0000\n",
            "Epoch 88/100\n",
            "469/469 [==============================] - 2s 4ms/step - loss: 3.0551e-05 - accuracy: 1.0000\n",
            "Epoch 89/100\n",
            "469/469 [==============================] - 2s 4ms/step - loss: 2.6220e-05 - accuracy: 1.0000\n",
            "Epoch 90/100\n",
            "469/469 [==============================] - 2s 3ms/step - loss: 2.5396e-05 - accuracy: 1.0000\n",
            "Epoch 91/100\n",
            "469/469 [==============================] - 2s 4ms/step - loss: 2.2278e-05 - accuracy: 1.0000\n",
            "Epoch 92/100\n",
            "469/469 [==============================] - 2s 4ms/step - loss: 1.9083e-05 - accuracy: 1.0000\n",
            "Epoch 93/100\n",
            "469/469 [==============================] - 2s 4ms/step - loss: 1.8357e-05 - accuracy: 1.0000\n",
            "Epoch 94/100\n",
            "469/469 [==============================] - 2s 4ms/step - loss: 0.0049 - accuracy: 0.9987\n",
            "Epoch 95/100\n",
            "469/469 [==============================] - 2s 4ms/step - loss: 0.0034 - accuracy: 0.9988\n",
            "Epoch 96/100\n",
            "469/469 [==============================] - 2s 4ms/step - loss: 7.8870e-04 - accuracy: 0.9998\n",
            "Epoch 97/100\n",
            "469/469 [==============================] - 2s 4ms/step - loss: 4.1289e-04 - accuracy: 0.9999\n",
            "Epoch 98/100\n",
            "469/469 [==============================] - 2s 4ms/step - loss: 2.2112e-04 - accuracy: 0.9999\n",
            "Epoch 99/100\n",
            "469/469 [==============================] - 2s 3ms/step - loss: 5.9094e-05 - accuracy: 1.0000\n",
            "Epoch 100/100\n",
            "469/469 [==============================] - 2s 3ms/step - loss: 3.9058e-05 - accuracy: 1.0000\n"
          ],
          "name": "stdout"
        }
      ]
    },
    {
      "cell_type": "code",
      "metadata": {
        "colab": {
          "base_uri": "https://localhost:8080/"
        },
        "id": "0axc0wPVQRVw",
        "outputId": "ee7e0004-efad-4f06-d60f-e7d0ee58842d"
      },
      "source": [
        "# Evaluate the model using test dataset.\n",
        "test_loss, test_acc = model.evaluate(test_images, test_labels)\n",
        "print('Test Accuracy: ', test_acc)"
      ],
      "execution_count": 11,
      "outputs": [
        {
          "output_type": "stream",
          "text": [
            "313/313 [==============================] - 1s 1ms/step - loss: 0.1295 - accuracy: 0.9801\n",
            "Test Accuracy:  0.9800999760627747\n"
          ],
          "name": "stdout"
        }
      ]
    }
  ]
}