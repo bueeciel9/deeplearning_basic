{
  "nbformat": 4,
  "nbformat_minor": 0,
  "metadata": {
    "colab": {
      "name": "textClassification.ipynb",
      "provenance": [],
      "collapsed_sections": []
    },
    "kernelspec": {
      "name": "python3",
      "display_name": "Python 3"
    }
  },
  "cells": [
    {
      "cell_type": "code",
      "metadata": {
        "colab": {
          "base_uri": "https://localhost:8080/"
        },
        "id": "OQE_ssuxCgEy",
        "outputId": "0de86071-96f5-43e3-f701-9157df472b11"
      },
      "source": [
        "import tensorflow as tf\n",
        "from tensorflow import keras\n",
        "\n",
        "import numpy as np\n",
        "\n",
        "print(tf.__version__)"
      ],
      "execution_count": 1,
      "outputs": [
        {
          "output_type": "stream",
          "text": [
            "2.4.1\n"
          ],
          "name": "stdout"
        }
      ]
    },
    {
      "cell_type": "markdown",
      "metadata": {
        "id": "pYFalTJCOFlz"
      },
      "source": [
        "#1. Load Data"
      ]
    },
    {
      "cell_type": "code",
      "metadata": {
        "colab": {
          "base_uri": "https://localhost:8080/"
        },
        "id": "q-Je0G2VOJDT",
        "outputId": "5017b641-7f0a-4afb-a8e1-b8477356b4b4"
      },
      "source": [
        "imdb = keras.datasets.imdb\n",
        "(train_data, train_labels), (test_data, test_labels) = imdb.load_data(num_words=10000) "
      ],
      "execution_count": 29,
      "outputs": [
        {
          "output_type": "stream",
          "text": [
            "<string>:6: VisibleDeprecationWarning: Creating an ndarray from ragged nested sequences (which is a list-or-tuple of lists-or-tuples-or ndarrays with different lengths or shapes) is deprecated. If you meant to do this, you must specify 'dtype=object' when creating the ndarray\n",
            "/usr/local/lib/python3.7/dist-packages/tensorflow/python/keras/datasets/imdb.py:159: VisibleDeprecationWarning: Creating an ndarray from ragged nested sequences (which is a list-or-tuple of lists-or-tuples-or ndarrays with different lengths or shapes) is deprecated. If you meant to do this, you must specify 'dtype=object' when creating the ndarray\n",
            "  x_train, y_train = np.array(xs[:idx]), np.array(labels[:idx])\n",
            "/usr/local/lib/python3.7/dist-packages/tensorflow/python/keras/datasets/imdb.py:160: VisibleDeprecationWarning: Creating an ndarray from ragged nested sequences (which is a list-or-tuple of lists-or-tuples-or ndarrays with different lengths or shapes) is deprecated. If you meant to do this, you must specify 'dtype=object' when creating the ndarray\n",
            "  x_test, y_test = np.array(xs[idx:]), np.array(labels[idx:])\n"
          ],
          "name": "stderr"
        }
      ]
    },
    {
      "cell_type": "code",
      "metadata": {
        "colab": {
          "base_uri": "https://localhost:8080/"
        },
        "id": "7D-mJS4dOiMO",
        "outputId": "9455668f-b07e-4ca0-ad93-8a63edbae35c"
      },
      "source": [
        "len(train_data), len(test_data)"
      ],
      "execution_count": 30,
      "outputs": [
        {
          "output_type": "execute_result",
          "data": {
            "text/plain": [
              "(25000, 25000)"
            ]
          },
          "metadata": {
            "tags": []
          },
          "execution_count": 30
        }
      ]
    },
    {
      "cell_type": "code",
      "metadata": {
        "id": "eGoLQpq9OotR"
      },
      "source": [
        "train_data[0]"
      ],
      "execution_count": null,
      "outputs": []
    },
    {
      "cell_type": "code",
      "metadata": {
        "colab": {
          "base_uri": "https://localhost:8080/"
        },
        "id": "dnncf78JO385",
        "outputId": "3d616554-a066-4af0-b52e-6cf2f0b65b78"
      },
      "source": [
        "len(train_data[0]), len(train_data[102])"
      ],
      "execution_count": 32,
      "outputs": [
        {
          "output_type": "execute_result",
          "data": {
            "text/plain": [
              "(218, 790)"
            ]
          },
          "metadata": {
            "tags": []
          },
          "execution_count": 32
        }
      ]
    },
    {
      "cell_type": "code",
      "metadata": {
        "id": "Y06Ej-yrPbRn"
      },
      "source": [
        "word_index = imdb.get_word_index()"
      ],
      "execution_count": 33,
      "outputs": []
    },
    {
      "cell_type": "code",
      "metadata": {
        "id": "xU6ZwRdbPlqm"
      },
      "source": [
        "word_index"
      ],
      "execution_count": null,
      "outputs": []
    },
    {
      "cell_type": "code",
      "metadata": {
        "id": "MS9O2JNJPz7H"
      },
      "source": [
        "word_index = {k:(v+3) for k,v in word_index.items()}\n",
        "word_index[\"<PAD>\"] = 0\n",
        "word_index[\"<START>\"] = 1\n",
        "word_index[\"<UNK>\"] = 2  # unknown\n",
        "word_index[\"<UNUSED>\"] = 3"
      ],
      "execution_count": 34,
      "outputs": []
    },
    {
      "cell_type": "code",
      "metadata": {
        "id": "mFSbGNJnP_ME"
      },
      "source": [
        "word_index"
      ],
      "execution_count": null,
      "outputs": []
    },
    {
      "cell_type": "code",
      "metadata": {
        "id": "40xRRsH8QOYn"
      },
      "source": [
        "reverse_word_index = dict([(value, key) for (key, value) in word_index.items()])\n",
        "\n",
        "def decode_review(text):\n",
        "    return ' '.join([reverse_word_index.get(i, '?') for i in text])"
      ],
      "execution_count": 35,
      "outputs": []
    },
    {
      "cell_type": "code",
      "metadata": {
        "colab": {
          "base_uri": "https://localhost:8080/",
          "height": 103
        },
        "id": "gTjOmGkrQjC2",
        "outputId": "c5095760-7fa0-4b40-943e-f2bc6c53d0ce"
      },
      "source": [
        "decode_review(train_data[0])"
      ],
      "execution_count": 36,
      "outputs": [
        {
          "output_type": "execute_result",
          "data": {
            "application/vnd.google.colaboratory.intrinsic+json": {
              "type": "string"
            },
            "text/plain": [
              "\"<START> this film was just brilliant casting location scenery story direction everyone's really suited the part they played and you could just imagine being there robert <UNK> is an amazing actor and now the same being director <UNK> father came from the same scottish island as myself so i loved the fact there was a real connection with this film the witty remarks throughout the film were great it was just brilliant so much that i bought the film as soon as it was released for <UNK> and would recommend it to everyone to watch and the fly fishing was amazing really cried at the end it was so sad and you know what they say if you cry at a film it must have been good and this definitely was also <UNK> to the two little boy's that played the <UNK> of norman and paul they were just brilliant children are often left out of the <UNK> list i think because the stars that play them all grown up are such a big profile for the whole film but these children are amazing and should be praised for what they have done don't you think the whole story was so lovely because it was true and was someone's life after all that was shared with us all\""
            ]
          },
          "metadata": {
            "tags": []
          },
          "execution_count": 36
        }
      ]
    },
    {
      "cell_type": "markdown",
      "metadata": {
        "id": "w1c0WPJ6QuGg"
      },
      "source": [
        "#2. Text Classification"
      ]
    },
    {
      "cell_type": "code",
      "metadata": {
        "id": "fGxbzOgdQyca"
      },
      "source": [
        "train_data = keras.preprocessing.sequence.pad_sequences(train_data, value=word_index['<PAD>'], padding='post', maxlen=256)\n",
        "test_data = keras.preprocessing.sequence.pad_sequences(test_data, value=word_index['<PAD>'], padding='post', maxlen=256)"
      ],
      "execution_count": 37,
      "outputs": []
    },
    {
      "cell_type": "code",
      "metadata": {
        "colab": {
          "base_uri": "https://localhost:8080/"
        },
        "id": "rpvsWmauRhaY",
        "outputId": "94d3c63f-cfb2-4db3-e045-d7d901a538de"
      },
      "source": [
        "len(train_data[0]), len(train_data[102])"
      ],
      "execution_count": 38,
      "outputs": [
        {
          "output_type": "execute_result",
          "data": {
            "text/plain": [
              "(256, 256)"
            ]
          },
          "metadata": {
            "tags": []
          },
          "execution_count": 38
        }
      ]
    },
    {
      "cell_type": "code",
      "metadata": {
        "colab": {
          "base_uri": "https://localhost:8080/"
        },
        "id": "L2f3w8ELSgjN",
        "outputId": "f0138e6f-ee57-4070-8ad8-6753c23aea18"
      },
      "source": [
        "train_data[0]"
      ],
      "execution_count": 42,
      "outputs": [
        {
          "output_type": "execute_result",
          "data": {
            "text/plain": [
              "array([   1,   14,   22,   16,   43,  530,  973, 1622, 1385,   65,  458,\n",
              "       4468,   66, 3941,    4,  173,   36,  256,    5,   25,  100,   43,\n",
              "        838,  112,   50,  670,    2,    9,   35,  480,  284,    5,  150,\n",
              "          4,  172,  112,  167,    2,  336,  385,   39,    4,  172, 4536,\n",
              "       1111,   17,  546,   38,   13,  447,    4,  192,   50,   16,    6,\n",
              "        147, 2025,   19,   14,   22,    4, 1920, 4613,  469,    4,   22,\n",
              "         71,   87,   12,   16,   43,  530,   38,   76,   15,   13, 1247,\n",
              "          4,   22,   17,  515,   17,   12,   16,  626,   18,    2,    5,\n",
              "         62,  386,   12,    8,  316,    8,  106,    5,    4, 2223, 5244,\n",
              "         16,  480,   66, 3785,   33,    4,  130,   12,   16,   38,  619,\n",
              "          5,   25,  124,   51,   36,  135,   48,   25, 1415,   33,    6,\n",
              "         22,   12,  215,   28,   77,   52,    5,   14,  407,   16,   82,\n",
              "          2,    8,    4,  107,  117, 5952,   15,  256,    4,    2,    7,\n",
              "       3766,    5,  723,   36,   71,   43,  530,  476,   26,  400,  317,\n",
              "         46,    7,    4,    2, 1029,   13,  104,   88,    4,  381,   15,\n",
              "        297,   98,   32, 2071,   56,   26,  141,    6,  194, 7486,   18,\n",
              "          4,  226,   22,   21,  134,  476,   26,  480,    5,  144,   30,\n",
              "       5535,   18,   51,   36,   28,  224,   92,   25,  104,    4,  226,\n",
              "         65,   16,   38, 1334,   88,   12,   16,  283,    5,   16, 4472,\n",
              "        113,  103,   32,   15,   16, 5345,   19,  178,   32,    0,    0,\n",
              "          0,    0,    0,    0,    0,    0,    0,    0,    0,    0,    0,\n",
              "          0,    0,    0,    0,    0,    0,    0,    0,    0,    0,    0,\n",
              "          0,    0,    0,    0,    0,    0,    0,    0,    0,    0,    0,\n",
              "          0,    0,    0], dtype=int32)"
            ]
          },
          "metadata": {
            "tags": []
          },
          "execution_count": 42
        }
      ]
    },
    {
      "cell_type": "code",
      "metadata": {
        "colab": {
          "base_uri": "https://localhost:8080/"
        },
        "id": "5WbgW7ffSooW",
        "outputId": "30f1109b-0850-45a3-f6a8-7ec0554b7b8d"
      },
      "source": [
        "vocab_size = 10000\n",
        "\n",
        "model = keras.Sequential()\n",
        "model.add(keras.layers.Embedding(vocab_size, 16, input_shape=(None,)))\n",
        "model.add(keras.layers.GlobalAveragePooling1D())\n",
        "model.add(keras.layers.Dense(16, activation='relu'))\n",
        "model.add(keras.layers.Dense(1, activation='sigmoid'))\n",
        "\n",
        "model.summary()"
      ],
      "execution_count": 44,
      "outputs": [
        {
          "output_type": "stream",
          "text": [
            "Model: \"sequential\"\n",
            "_________________________________________________________________\n",
            "Layer (type)                 Output Shape              Param #   \n",
            "=================================================================\n",
            "embedding (Embedding)        (None, None, 16)          160000    \n",
            "_________________________________________________________________\n",
            "global_average_pooling1d (Gl (None, 16)                0         \n",
            "_________________________________________________________________\n",
            "dense (Dense)                (None, 16)                272       \n",
            "_________________________________________________________________\n",
            "dense_1 (Dense)              (None, 1)                 17        \n",
            "=================================================================\n",
            "Total params: 160,289\n",
            "Trainable params: 160,289\n",
            "Non-trainable params: 0\n",
            "_________________________________________________________________\n"
          ],
          "name": "stdout"
        }
      ]
    },
    {
      "cell_type": "code",
      "metadata": {
        "id": "JglC4mc1TO9s"
      },
      "source": [
        "model.compile(optimizer='adam',\n",
        "              loss='binary_crossentropy',\n",
        "              metrics=['accuracy'])"
      ],
      "execution_count": 45,
      "outputs": []
    },
    {
      "cell_type": "code",
      "metadata": {
        "id": "L6V8J4WOTgzZ"
      },
      "source": [
        "particial_x_train = train_data[10000:]\n",
        "x_val = train_data[:10000]\n",
        "\n",
        "particial_y_train = train_labels[10000:]\n",
        "y_val = train_labels[:10000]"
      ],
      "execution_count": 46,
      "outputs": []
    },
    {
      "cell_type": "code",
      "metadata": {
        "colab": {
          "base_uri": "https://localhost:8080/"
        },
        "id": "ClR2B4qVUCwq",
        "outputId": "7d6f611c-1a82-4519-8425-f22028306046"
      },
      "source": [
        "history = model.fit(particial_x_train, particial_y_train, epochs=50, batch_size=512,\n",
        "                    validation_data=(x_val, y_val))"
      ],
      "execution_count": 47,
      "outputs": [
        {
          "output_type": "stream",
          "text": [
            "Epoch 1/50\n",
            "30/30 [==============================] - 2s 25ms/step - loss: 0.6929 - accuracy: 0.5034 - val_loss: 0.6917 - val_accuracy: 0.5934\n",
            "Epoch 2/50\n",
            "30/30 [==============================] - 1s 17ms/step - loss: 0.6906 - accuracy: 0.6246 - val_loss: 0.6871 - val_accuracy: 0.7444\n",
            "Epoch 3/50\n",
            "30/30 [==============================] - 1s 18ms/step - loss: 0.6841 - accuracy: 0.7492 - val_loss: 0.6756 - val_accuracy: 0.7505\n",
            "Epoch 4/50\n",
            "30/30 [==============================] - 1s 17ms/step - loss: 0.6688 - accuracy: 0.7699 - val_loss: 0.6535 - val_accuracy: 0.7616\n",
            "Epoch 5/50\n",
            "30/30 [==============================] - 1s 18ms/step - loss: 0.6412 - accuracy: 0.7818 - val_loss: 0.6206 - val_accuracy: 0.7734\n",
            "Epoch 6/50\n",
            "30/30 [==============================] - 1s 17ms/step - loss: 0.6026 - accuracy: 0.7978 - val_loss: 0.5793 - val_accuracy: 0.7913\n",
            "Epoch 7/50\n",
            "30/30 [==============================] - 1s 18ms/step - loss: 0.5549 - accuracy: 0.8141 - val_loss: 0.5342 - val_accuracy: 0.8109\n",
            "Epoch 8/50\n",
            "30/30 [==============================] - 1s 18ms/step - loss: 0.5072 - accuracy: 0.8296 - val_loss: 0.4909 - val_accuracy: 0.8220\n",
            "Epoch 9/50\n",
            "30/30 [==============================] - 1s 18ms/step - loss: 0.4605 - accuracy: 0.8497 - val_loss: 0.4517 - val_accuracy: 0.8391\n",
            "Epoch 10/50\n",
            "30/30 [==============================] - 1s 17ms/step - loss: 0.4172 - accuracy: 0.8663 - val_loss: 0.4196 - val_accuracy: 0.8478\n",
            "Epoch 11/50\n",
            "30/30 [==============================] - 1s 17ms/step - loss: 0.3785 - accuracy: 0.8747 - val_loss: 0.3931 - val_accuracy: 0.8539\n",
            "Epoch 12/50\n",
            "30/30 [==============================] - 1s 18ms/step - loss: 0.3484 - accuracy: 0.8845 - val_loss: 0.3713 - val_accuracy: 0.8606\n",
            "Epoch 13/50\n",
            "30/30 [==============================] - 1s 18ms/step - loss: 0.3242 - accuracy: 0.8899 - val_loss: 0.3541 - val_accuracy: 0.8667\n",
            "Epoch 14/50\n",
            "30/30 [==============================] - 1s 18ms/step - loss: 0.3007 - accuracy: 0.8978 - val_loss: 0.3417 - val_accuracy: 0.8688\n",
            "Epoch 15/50\n",
            "30/30 [==============================] - 1s 18ms/step - loss: 0.2855 - accuracy: 0.9020 - val_loss: 0.3299 - val_accuracy: 0.8728\n",
            "Epoch 16/50\n",
            "30/30 [==============================] - 1s 19ms/step - loss: 0.2690 - accuracy: 0.9089 - val_loss: 0.3203 - val_accuracy: 0.8745\n",
            "Epoch 17/50\n",
            "30/30 [==============================] - 1s 18ms/step - loss: 0.2565 - accuracy: 0.9119 - val_loss: 0.3131 - val_accuracy: 0.8762\n",
            "Epoch 18/50\n",
            "30/30 [==============================] - 1s 18ms/step - loss: 0.2427 - accuracy: 0.9148 - val_loss: 0.3068 - val_accuracy: 0.8795\n",
            "Epoch 19/50\n",
            "30/30 [==============================] - 1s 19ms/step - loss: 0.2310 - accuracy: 0.9205 - val_loss: 0.3019 - val_accuracy: 0.8803\n",
            "Epoch 20/50\n",
            "30/30 [==============================] - 1s 18ms/step - loss: 0.2231 - accuracy: 0.9231 - val_loss: 0.2978 - val_accuracy: 0.8806\n",
            "Epoch 21/50\n",
            "30/30 [==============================] - 1s 18ms/step - loss: 0.2107 - accuracy: 0.9290 - val_loss: 0.2942 - val_accuracy: 0.8830\n",
            "Epoch 22/50\n",
            "30/30 [==============================] - 1s 20ms/step - loss: 0.2012 - accuracy: 0.9311 - val_loss: 0.2914 - val_accuracy: 0.8840\n",
            "Epoch 23/50\n",
            "30/30 [==============================] - 1s 19ms/step - loss: 0.1935 - accuracy: 0.9350 - val_loss: 0.2891 - val_accuracy: 0.8841\n",
            "Epoch 24/50\n",
            "30/30 [==============================] - 1s 18ms/step - loss: 0.1810 - accuracy: 0.9410 - val_loss: 0.2873 - val_accuracy: 0.8848\n",
            "Epoch 25/50\n",
            "30/30 [==============================] - 1s 18ms/step - loss: 0.1731 - accuracy: 0.9453 - val_loss: 0.2862 - val_accuracy: 0.8855\n",
            "Epoch 26/50\n",
            "30/30 [==============================] - 1s 18ms/step - loss: 0.1703 - accuracy: 0.9444 - val_loss: 0.2856 - val_accuracy: 0.8859\n",
            "Epoch 27/50\n",
            "30/30 [==============================] - 1s 19ms/step - loss: 0.1646 - accuracy: 0.9474 - val_loss: 0.2856 - val_accuracy: 0.8846\n",
            "Epoch 28/50\n",
            "30/30 [==============================] - 1s 18ms/step - loss: 0.1575 - accuracy: 0.9510 - val_loss: 0.2857 - val_accuracy: 0.8852\n",
            "Epoch 29/50\n",
            "30/30 [==============================] - 1s 20ms/step - loss: 0.1515 - accuracy: 0.9524 - val_loss: 0.2856 - val_accuracy: 0.8861\n",
            "Epoch 30/50\n",
            "30/30 [==============================] - 1s 19ms/step - loss: 0.1439 - accuracy: 0.9558 - val_loss: 0.2864 - val_accuracy: 0.8852\n",
            "Epoch 31/50\n",
            "30/30 [==============================] - 1s 19ms/step - loss: 0.1365 - accuracy: 0.9594 - val_loss: 0.2882 - val_accuracy: 0.8853\n",
            "Epoch 32/50\n",
            "30/30 [==============================] - 1s 19ms/step - loss: 0.1320 - accuracy: 0.9611 - val_loss: 0.2890 - val_accuracy: 0.8851\n",
            "Epoch 33/50\n",
            "30/30 [==============================] - 1s 19ms/step - loss: 0.1299 - accuracy: 0.9603 - val_loss: 0.2905 - val_accuracy: 0.8849\n",
            "Epoch 34/50\n",
            "30/30 [==============================] - 1s 19ms/step - loss: 0.1200 - accuracy: 0.9675 - val_loss: 0.2922 - val_accuracy: 0.8848\n",
            "Epoch 35/50\n",
            "30/30 [==============================] - 1s 19ms/step - loss: 0.1175 - accuracy: 0.9691 - val_loss: 0.2934 - val_accuracy: 0.8841\n",
            "Epoch 36/50\n",
            "30/30 [==============================] - 1s 20ms/step - loss: 0.1180 - accuracy: 0.9666 - val_loss: 0.2954 - val_accuracy: 0.8842\n",
            "Epoch 37/50\n",
            "30/30 [==============================] - 1s 19ms/step - loss: 0.1160 - accuracy: 0.9683 - val_loss: 0.2978 - val_accuracy: 0.8840\n",
            "Epoch 38/50\n",
            "30/30 [==============================] - 1s 18ms/step - loss: 0.1054 - accuracy: 0.9710 - val_loss: 0.3002 - val_accuracy: 0.8839\n",
            "Epoch 39/50\n",
            "30/30 [==============================] - 1s 19ms/step - loss: 0.1008 - accuracy: 0.9729 - val_loss: 0.3040 - val_accuracy: 0.8812\n",
            "Epoch 40/50\n",
            "30/30 [==============================] - 1s 18ms/step - loss: 0.0961 - accuracy: 0.9755 - val_loss: 0.3062 - val_accuracy: 0.8835\n",
            "Epoch 41/50\n",
            "30/30 [==============================] - 1s 18ms/step - loss: 0.0963 - accuracy: 0.9754 - val_loss: 0.3091 - val_accuracy: 0.8833\n",
            "Epoch 42/50\n",
            "30/30 [==============================] - 1s 18ms/step - loss: 0.0945 - accuracy: 0.9761 - val_loss: 0.3121 - val_accuracy: 0.8829\n",
            "Epoch 43/50\n",
            "30/30 [==============================] - 1s 19ms/step - loss: 0.0874 - accuracy: 0.9788 - val_loss: 0.3166 - val_accuracy: 0.8797\n",
            "Epoch 44/50\n",
            "30/30 [==============================] - 1s 19ms/step - loss: 0.0864 - accuracy: 0.9787 - val_loss: 0.3185 - val_accuracy: 0.8818\n",
            "Epoch 45/50\n",
            "30/30 [==============================] - 1s 19ms/step - loss: 0.0792 - accuracy: 0.9822 - val_loss: 0.3214 - val_accuracy: 0.8819\n",
            "Epoch 46/50\n",
            "30/30 [==============================] - 1s 18ms/step - loss: 0.0786 - accuracy: 0.9814 - val_loss: 0.3256 - val_accuracy: 0.8805\n",
            "Epoch 47/50\n",
            "30/30 [==============================] - 1s 19ms/step - loss: 0.0773 - accuracy: 0.9821 - val_loss: 0.3292 - val_accuracy: 0.8807\n",
            "Epoch 48/50\n",
            "30/30 [==============================] - 1s 19ms/step - loss: 0.0731 - accuracy: 0.9849 - val_loss: 0.3326 - val_accuracy: 0.8801\n",
            "Epoch 49/50\n",
            "30/30 [==============================] - 1s 18ms/step - loss: 0.0706 - accuracy: 0.9845 - val_loss: 0.3369 - val_accuracy: 0.8790\n",
            "Epoch 50/50\n",
            "30/30 [==============================] - 1s 19ms/step - loss: 0.0663 - accuracy: 0.9872 - val_loss: 0.3407 - val_accuracy: 0.8792\n"
          ],
          "name": "stdout"
        }
      ]
    },
    {
      "cell_type": "code",
      "metadata": {
        "colab": {
          "base_uri": "https://localhost:8080/"
        },
        "id": "fAze_2oNUcGQ",
        "outputId": "c033827a-7a6d-4af5-97ac-a2693c57de49"
      },
      "source": [
        "results = model.evaluate(test_data, test_labels)\n",
        "print(results)"
      ],
      "execution_count": 48,
      "outputs": [
        {
          "output_type": "stream",
          "text": [
            "782/782 [==============================] - 1s 1ms/step - loss: 0.3643 - accuracy: 0.8682\n",
            "[0.3643415570259094, 0.8682399988174438]\n"
          ],
          "name": "stdout"
        }
      ]
    }
  ]
}