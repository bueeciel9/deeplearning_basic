{
  "nbformat": 4,
  "nbformat_minor": 0,
  "metadata": {
    "colab": {
      "name": "dataSets.ipynb",
      "provenance": [],
      "collapsed_sections": [
        "s7HbYNk_4mYX"
      ]
    },
    "kernelspec": {
      "name": "python3",
      "display_name": "Python 3"
    }
  },
  "cells": [
    {
      "cell_type": "markdown",
      "metadata": {
        "id": "s7HbYNk_4mYX"
      },
      "source": [
        "# 1. List\n",
        "\n",
        "Forms provide an easy way to parameterize\n",
        " \n",
        "https://colab.research.google.com/notebooks/forms.ipynb"
      ]
    },
    {
      "cell_type": "code",
      "metadata": {
        "id": "joCd_ZsL364-"
      },
      "source": [
        "names = []"
      ],
      "execution_count": null,
      "outputs": []
    },
    {
      "cell_type": "code",
      "metadata": {
        "id": "gcy4sMmr2N4H"
      },
      "source": [
        "name = input('Enter name : ')\n",
        "names.append(name)\n",
        "print(names)"
      ],
      "execution_count": null,
      "outputs": []
    },
    {
      "cell_type": "code",
      "metadata": {
        "id": "LSjvCXFQwgI-"
      },
      "source": [
        "name = 'Enter name :' #@param {type:\"string\"}\n",
        "names.append(name)\n",
        "print(names)"
      ],
      "execution_count": null,
      "outputs": []
    },
    {
      "cell_type": "code",
      "metadata": {
        "id": "CcDozg1AxYa_"
      },
      "source": [
        "name = '' #@param {type:\"string\"}\n",
        "names.append(name)\n",
        "print(names)"
      ],
      "execution_count": null,
      "outputs": []
    },
    {
      "cell_type": "code",
      "metadata": {
        "id": "OFl3G-7_29rO"
      },
      "source": [
        "names[1]"
      ],
      "execution_count": null,
      "outputs": []
    },
    {
      "cell_type": "code",
      "metadata": {
        "id": "ZAdCDWEH7SGt"
      },
      "source": [
        "names[0]"
      ],
      "execution_count": null,
      "outputs": []
    },
    {
      "cell_type": "code",
      "metadata": {
        "id": "4HrEPrUg7fls"
      },
      "source": [
        "names[-1]"
      ],
      "execution_count": null,
      "outputs": []
    },
    {
      "cell_type": "code",
      "metadata": {
        "id": "WPnYyv937hst"
      },
      "source": [
        "names[0:2]"
      ],
      "execution_count": null,
      "outputs": []
    },
    {
      "cell_type": "code",
      "metadata": {
        "id": "o6nXAmDB79h_"
      },
      "source": [
        "names[1:]"
      ],
      "execution_count": null,
      "outputs": []
    },
    {
      "cell_type": "code",
      "metadata": {
        "id": "AF8gMq2o5Kdv"
      },
      "source": [
        "len(names)"
      ],
      "execution_count": null,
      "outputs": []
    },
    {
      "cell_type": "code",
      "metadata": {
        "id": "wgM4GWRY8oQJ"
      },
      "source": [
        "names[1] = 'Jimmy'"
      ],
      "execution_count": null,
      "outputs": []
    },
    {
      "cell_type": "code",
      "metadata": {
        "id": "sPsqaNc182TH"
      },
      "source": [
        "names"
      ],
      "execution_count": null,
      "outputs": []
    },
    {
      "cell_type": "code",
      "metadata": {
        "id": "WlqGErVp9HV4"
      },
      "source": [
        "names.index('Jonathan')"
      ],
      "execution_count": null,
      "outputs": []
    },
    {
      "cell_type": "code",
      "metadata": {
        "id": "-ZHi5fJVAM2x"
      },
      "source": [
        "scores = [100, 90, 70]\n",
        "highscores = [names, scores]"
      ],
      "execution_count": null,
      "outputs": []
    },
    {
      "cell_type": "code",
      "metadata": {
        "id": "A_QJaJ3BAaPt"
      },
      "source": [
        "print(highscores)"
      ],
      "execution_count": null,
      "outputs": []
    },
    {
      "cell_type": "code",
      "metadata": {
        "id": "3VYMIYluAez2"
      },
      "source": [
        "highscores[0][0]"
      ],
      "execution_count": null,
      "outputs": []
    },
    {
      "cell_type": "code",
      "metadata": {
        "id": "Jy6hXjA5AtUr"
      },
      "source": [
        "highscores[1][0]"
      ],
      "execution_count": null,
      "outputs": []
    },
    {
      "cell_type": "markdown",
      "metadata": {
        "id": "YdVG6gmpBQkx"
      },
      "source": [
        "# 2. Dictionary\n"
      ]
    },
    {
      "cell_type": "code",
      "metadata": {
        "id": "NCtWDMPwBdRX"
      },
      "source": [
        "stationfares = []"
      ],
      "execution_count": null,
      "outputs": []
    },
    {
      "cell_type": "code",
      "metadata": {
        "id": "bXQOX0vuCI32"
      },
      "source": [
        "dic = {}\n",
        "station = input('Enter station : ')\n",
        "fare = int(input('Enter fare : '))\n",
        "dic['station'] = station\n",
        "dic['fare'] = fare\n",
        "stationfares.append(dic)\n",
        "print(dic)\n",
        "print(stationfares)"
      ],
      "execution_count": null,
      "outputs": []
    },
    {
      "cell_type": "code",
      "metadata": {
        "id": "_deoqTiDDRtA"
      },
      "source": [
        "dic = {}\n",
        "station = '' #@param {type:\"string\"}\n",
        "fare = 1000 #@param {type:\"integer\"}\n",
        "dic['station'] = station\n",
        "dic['fare'] = fare\n",
        "stationfares.append(dic)\n",
        "print(dic)\n",
        "print(stationfares)"
      ],
      "execution_count": null,
      "outputs": []
    },
    {
      "cell_type": "code",
      "metadata": {
        "id": "2eUOp7G-ELIU"
      },
      "source": [
        "stationfares[0]"
      ],
      "execution_count": null,
      "outputs": []
    },
    {
      "cell_type": "code",
      "metadata": {
        "id": "KsKyvCRJFNCn"
      },
      "source": [
        "dic.keys()"
      ],
      "execution_count": null,
      "outputs": []
    },
    {
      "cell_type": "code",
      "metadata": {
        "colab": {
          "base_uri": "https://localhost:8080/"
        },
        "id": "7xaEn7_sFws9",
        "outputId": "e8d96d5c-9e49-4743-96bb-7f0b66c6a35c"
      },
      "source": [
        "dic.values()"
      ],
      "execution_count": null,
      "outputs": [
        {
          "output_type": "execute_result",
          "data": {
            "text/plain": [
              "dict_values(['', 2000])"
            ]
          },
          "metadata": {
            "tags": []
          },
          "execution_count": 60
        }
      ]
    }
  ]
}