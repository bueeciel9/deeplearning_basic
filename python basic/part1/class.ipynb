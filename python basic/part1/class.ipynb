{
  "nbformat": 4,
  "nbformat_minor": 0,
  "metadata": {
    "colab": {
      "name": "class.ipynb",
      "provenance": [],
      "collapsed_sections": []
    },
    "kernelspec": {
      "name": "python3",
      "display_name": "Python 3"
    }
  },
  "cells": [
    {
      "cell_type": "markdown",
      "metadata": {
        "id": "Etq_PHIJCsbz"
      },
      "source": [
        "#1. Function"
      ]
    },
    {
      "cell_type": "code",
      "metadata": {
        "id": "3PCtoSuvjYQT"
      },
      "source": [
        "stationfares = [\n",
        "            {\"station\": \"청량리\", \"fare\": 1500},\n",
        "            {\"station\": \"성북\", \"fare\": 1800},\n",
        "            {\"station\": \"의정부\", \"fare\": 2000},\n",
        "            {\"station\": \"소요산\", \"fare\": 2500}\n",
        "        ]"
      ],
      "execution_count": 14,
      "outputs": []
    },
    {
      "cell_type": "code",
      "metadata": {
        "colab": {
          "base_uri": "https://localhost:8080/"
        },
        "id": "9hhGqnfPC6I2",
        "outputId": "b1e0ff20-27df-4a34-cc9a-63618ec07700"
      },
      "source": [
        "stations = []\n",
        "fares = []\n",
        "for stationfare in stationfares:\n",
        "    stations.append(stationfare[\"station\"])\n",
        "    fares.append(stationfare[\"fare\"])\n",
        "print(stations)\n",
        "print(fares)"
      ],
      "execution_count": 3,
      "outputs": [
        {
          "output_type": "stream",
          "text": [
            "['청량리', '성북', '의정부', '소요산']\n",
            "[1500, 1800, 2000, 2500]\n"
          ],
          "name": "stdout"
        }
      ]
    },
    {
      "cell_type": "code",
      "metadata": {
        "colab": {
          "base_uri": "https://localhost:8080/"
        },
        "id": "GDJCiWp5DIrL",
        "outputId": "b2465c56-395e-472a-b101-009d4c8f3f51"
      },
      "source": [
        "len(stationfares)"
      ],
      "execution_count": 4,
      "outputs": [
        {
          "output_type": "execute_result",
          "data": {
            "text/plain": [
              "4"
            ]
          },
          "metadata": {
            "tags": []
          },
          "execution_count": 4
        }
      ]
    },
    {
      "cell_type": "code",
      "metadata": {
        "colab": {
          "base_uri": "https://localhost:8080/"
        },
        "id": "SklmK0SeDNYs",
        "outputId": "233cf446-1604-4a7e-fa83-6ff2475f8b85"
      },
      "source": [
        "max(fares)"
      ],
      "execution_count": 5,
      "outputs": [
        {
          "output_type": "execute_result",
          "data": {
            "text/plain": [
              "2500"
            ]
          },
          "metadata": {
            "tags": []
          },
          "execution_count": 5
        }
      ]
    },
    {
      "cell_type": "code",
      "metadata": {
        "colab": {
          "base_uri": "https://localhost:8080/"
        },
        "id": "UJfbM0SqDQgg",
        "outputId": "09b9181b-9a15-4ae7-d08b-a20e66e8c7a9"
      },
      "source": [
        "min(fares)"
      ],
      "execution_count": 6,
      "outputs": [
        {
          "output_type": "execute_result",
          "data": {
            "text/plain": [
              "1500"
            ]
          },
          "metadata": {
            "tags": []
          },
          "execution_count": 6
        }
      ]
    },
    {
      "cell_type": "code",
      "metadata": {
        "colab": {
          "base_uri": "https://localhost:8080/"
        },
        "id": "OxDaTFyZDS0g",
        "outputId": "2fcc919b-4115-42e1-d674-5cbd16c8fd84"
      },
      "source": [
        "sum(fares)"
      ],
      "execution_count": 7,
      "outputs": [
        {
          "output_type": "execute_result",
          "data": {
            "text/plain": [
              "7800"
            ]
          },
          "metadata": {
            "tags": []
          },
          "execution_count": 7
        }
      ]
    },
    {
      "cell_type": "code",
      "metadata": {
        "colab": {
          "base_uri": "https://localhost:8080/"
        },
        "id": "4IMOIZ6vDYkv",
        "outputId": "b8ed2675-b1ee-4cf2-b539-e43c160f1660"
      },
      "source": [
        "for idx, station in enumerate(stations):\n",
        "    print(idx, station)"
      ],
      "execution_count": 8,
      "outputs": [
        {
          "output_type": "stream",
          "text": [
            "0 청량리\n",
            "1 성북\n",
            "2 의정부\n",
            "3 소요산\n"
          ],
          "name": "stdout"
        }
      ]
    },
    {
      "cell_type": "code",
      "metadata": {
        "colab": {
          "base_uri": "https://localhost:8080/"
        },
        "id": "Q7RCj2iHDi4T",
        "outputId": "066dc8b1-dcc1-4f87-cc19-cd56090bc264"
      },
      "source": [
        "sum = lambda a, b : a+b\n",
        "sum(2, 3)"
      ],
      "execution_count": 9,
      "outputs": [
        {
          "output_type": "execute_result",
          "data": {
            "text/plain": [
              "5"
            ]
          },
          "metadata": {
            "tags": []
          },
          "execution_count": 9
        }
      ]
    },
    {
      "cell_type": "code",
      "metadata": {
        "colab": {
          "base_uri": "https://localhost:8080/"
        },
        "id": "MoCQgL5nDr2V",
        "outputId": "e836db1f-52c5-4af7-a998-a5d96d4994e2"
      },
      "source": [
        "def getFare(station):\n",
        "    for stationfare in stationfares:\n",
        "        if stationfare['station'] == station:\n",
        "            return stationfare['fare']\n",
        "fare = getFare(\"청량리\")\n",
        "print(fare)"
      ],
      "execution_count": 11,
      "outputs": [
        {
          "output_type": "stream",
          "text": [
            "1500\n"
          ],
          "name": "stdout"
        }
      ]
    },
    {
      "cell_type": "code",
      "metadata": {
        "colab": {
          "base_uri": "https://localhost:8080/"
        },
        "id": "bPI44tavEI37",
        "outputId": "d1a45134-8624-477e-c194-f5b8afad5415"
      },
      "source": [
        "for station in stations:\n",
        "    print(station, getFare(station))"
      ],
      "execution_count": 12,
      "outputs": [
        {
          "output_type": "stream",
          "text": [
            "청량리 1500\n",
            "성북 1800\n",
            "의정부 2000\n",
            "소요산 2500\n"
          ],
          "name": "stdout"
        }
      ]
    },
    {
      "cell_type": "markdown",
      "metadata": {
        "id": "E0MzO9ryES_R"
      },
      "source": [
        "#2. Class"
      ]
    },
    {
      "cell_type": "code",
      "metadata": {
        "id": "GMmu8Vl9EWsn"
      },
      "source": [
        "class Comments:\n",
        "    title               = \"#### %s 승차권 판매기입니다. ####\"\n",
        "    product_description = \"%s:%s(%s원)\"\n",
        "    insert_fare         = \"\\n요금을 넣어 주세요. : \"\n",
        "    insufficient_fare   = \"%s 요금이 부족합니다. 거스름돈은 %s원 입니다.\"\n",
        "    select_station      = \"원하시는 역번호를 선택하세요.\"\n",
        "    select_error        = \"잘못 입력하셨습니다.\"\n",
        "    finish_sale         = \"선택하신 %s 입니다. 거스름돈은 %s원 입니다.\\n감사합니다.\"\n",
        "    terminate_sale      = \"승차권 판매를 종료합니다.\"    "
      ],
      "execution_count": 15,
      "outputs": []
    },
    {
      "cell_type": "code",
      "metadata": {
        "id": "xlw6RwHMEzTB"
      },
      "source": [
        "class Products:\n",
        "    productNames = []\n",
        "    productValues = []"
      ],
      "execution_count": 16,
      "outputs": []
    },
    {
      "cell_type": "code",
      "metadata": {
        "id": "65k4BsjtFCuI"
      },
      "source": [
        "class SubwayTicket(Products):\n",
        "    _data = stationfares\n",
        "    _name = \"지하철\"\n",
        "    _status = True\n",
        "\n",
        "    def __init__(self):\n",
        "        print(Comments.title %self._name)\n",
        "\n",
        "    def set_products(self):\n",
        "        Products.productNames = []\n",
        "        Products.productValues = []\n",
        "        for stationfare in self._data:\n",
        "            Products.productNames.append(stationfare[\"station\"])\n",
        "            Products.productValues.append(stationfare[\"fare\"])\n",
        "\n",
        "    def run(self):\n",
        "        self.set_products()\n",
        "        while self._status:\n",
        "            try:\n",
        "                inputMoney = int(input(Comments.insert_fare))\n",
        "            except ValueError:\n",
        "                print(Comments.select_error)\n",
        "            else:\n",
        "                self.selectStation(inputMoney)\n",
        "    \n",
        "    def selectStation(self, money):\n",
        "        print(Comments.select_station)\n",
        "        for idx, name in enumerate(Products.productNames):\n",
        "            fare = Products.productValues[idx]\n",
        "            print(Comments.product_description %(str(idx), name, fare))\n",
        "        inputStation = int(input(Comments.select_station))\n",
        "        self.payment(money, inputStation)\n",
        "\n",
        "    def payment(self, money, idx):\n",
        "        name = Products.productNames[idx]\n",
        "        fare = Products.productValues[idx]\n",
        "        if money >= fare:\n",
        "            balance = money - fare\n",
        "            print(Comments.finish_sale %(name, str(balance)))\n",
        "        else:\n",
        "            print(Comments.insufficient_fare %(name, str(money)))"
      ],
      "execution_count": 24,
      "outputs": []
    },
    {
      "cell_type": "code",
      "metadata": {
        "colab": {
          "base_uri": "https://localhost:8080/"
        },
        "id": "Wb1NlEd-M_Nt",
        "outputId": "9ef81310-2e9f-4b65-ccc5-3a0490a2212c"
      },
      "source": [
        "tm = SubwayTicket()\n",
        "\n",
        "try: \n",
        "    tm.run()\n",
        "except KeyboardInterrupt:\n",
        "    tm._status = False\n",
        "    print(Comments.terminate_sale)"
      ],
      "execution_count": 25,
      "outputs": [
        {
          "output_type": "stream",
          "text": [
            "#### 지하철 승차권 판매기입니다. ####\n",
            "\n",
            "요금을 넣어 주세요. : 2000\n",
            "원하시는 역번호를 선택하세요.\n",
            "0:청량리(1500원)\n",
            "1:성북(1800원)\n",
            "2:의정부(2000원)\n",
            "3:소요산(2500원)\n",
            "원하시는 역번호를 선택하세요.1\n",
            "선택하신 성북 입니다. 거스름돈은 200원 입니다.\n",
            "감사합니다.\n",
            "\n",
            "요금을 넣어 주세요. : 3000\n",
            "원하시는 역번호를 선택하세요.\n",
            "0:청량리(1500원)\n",
            "1:성북(1800원)\n",
            "2:의정부(2000원)\n",
            "3:소요산(2500원)\n",
            "원하시는 역번호를 선택하세요.3\n",
            "선택하신 소요산 입니다. 거스름돈은 500원 입니다.\n",
            "감사합니다.\n",
            "승차권 판매를 종료합니다.\n"
          ],
          "name": "stdout"
        }
      ]
    }
  ]
}