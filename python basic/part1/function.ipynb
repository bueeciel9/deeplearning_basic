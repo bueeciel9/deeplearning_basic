{
  "nbformat": 4,
  "nbformat_minor": 0,
  "metadata": {
    "colab": {
      "name": "function.ipynb",
      "provenance": [],
      "collapsed_sections": []
    },
    "kernelspec": {
      "name": "python3",
      "display_name": "Python 3"
    }
  },
  "cells": [
    {
      "cell_type": "markdown",
      "metadata": {
        "id": "u5cfsbf0b0A_"
      },
      "source": [
        "#1. Function"
      ]
    },
    {
      "cell_type": "code",
      "metadata": {
        "id": "USE2uWFYcOKa"
      },
      "source": [
        "stationfares = [\n",
        "            {\"station\": \"청량리\", \"fare\": 1500},\n",
        "            {\"station\": \"성북\", \"fare\": 1800},\n",
        "            {\"station\": \"의정부\", \"fare\": 2000},\n",
        "            {\"station\": \"소요산\", \"fare\": 2500}\n",
        "        ]"
      ],
      "execution_count": null,
      "outputs": []
    },
    {
      "cell_type": "code",
      "metadata": {
        "colab": {
          "base_uri": "https://localhost:8080/"
        },
        "id": "hqaajeANcmRA",
        "outputId": "ba910666-da16-453a-9e12-e8f705c25457"
      },
      "source": [
        "stations = []\n",
        "fares = []\n",
        "for stationfare in stationfares:\n",
        "    stations.append(stationfare[\"station\"])\n",
        "    fares.append(stationfare[\"fare\"])\n",
        "print(stations)\n",
        "print(fares)"
      ],
      "execution_count": null,
      "outputs": [
        {
          "output_type": "stream",
          "text": [
            "['청량리', '성북', '의정부', '소요산']\n",
            "[1500, 1800, 2000, 2500]\n"
          ],
          "name": "stdout"
        }
      ]
    },
    {
      "cell_type": "code",
      "metadata": {
        "colab": {
          "base_uri": "https://localhost:8080/"
        },
        "id": "dTJo9UJNAfHN",
        "outputId": "055e8d72-acb8-41b7-9032-48f52c41c50d"
      },
      "source": [
        "len(stationfares)"
      ],
      "execution_count": null,
      "outputs": [
        {
          "output_type": "execute_result",
          "data": {
            "text/plain": [
              "4"
            ]
          },
          "metadata": {
            "tags": []
          },
          "execution_count": 4
        }
      ]
    },
    {
      "cell_type": "code",
      "metadata": {
        "colab": {
          "base_uri": "https://localhost:8080/"
        },
        "id": "y8MKa4k2AsiE",
        "outputId": "bf69aea1-3983-468f-8e6c-94373ba21496"
      },
      "source": [
        "max(fares)"
      ],
      "execution_count": null,
      "outputs": [
        {
          "output_type": "execute_result",
          "data": {
            "text/plain": [
              "2500"
            ]
          },
          "metadata": {
            "tags": []
          },
          "execution_count": 5
        }
      ]
    },
    {
      "cell_type": "code",
      "metadata": {
        "colab": {
          "base_uri": "https://localhost:8080/"
        },
        "id": "zylP9rNIAvHe",
        "outputId": "e7330cd3-55e1-4f95-ef8b-07a8512e935c"
      },
      "source": [
        "min(fares)"
      ],
      "execution_count": null,
      "outputs": [
        {
          "output_type": "execute_result",
          "data": {
            "text/plain": [
              "1500"
            ]
          },
          "metadata": {
            "tags": []
          },
          "execution_count": 6
        }
      ]
    },
    {
      "cell_type": "code",
      "metadata": {
        "colab": {
          "base_uri": "https://localhost:8080/"
        },
        "id": "pdpfT_ZeCV4V",
        "outputId": "6eb45c9a-a8de-409b-feb9-74669db349d1"
      },
      "source": [
        "sum(fares)"
      ],
      "execution_count": null,
      "outputs": [
        {
          "output_type": "execute_result",
          "data": {
            "text/plain": [
              "7800"
            ]
          },
          "metadata": {
            "tags": []
          },
          "execution_count": 9
        }
      ]
    },
    {
      "cell_type": "code",
      "metadata": {
        "colab": {
          "base_uri": "https://localhost:8080/"
        },
        "id": "_hE1rJdsA_LL",
        "outputId": "b89decea-3a35-49af-bff9-c6e7f0f6b1c5"
      },
      "source": [
        "for idx, station in enumerate(stations):\n",
        "    print(idx, station)"
      ],
      "execution_count": null,
      "outputs": [
        {
          "output_type": "stream",
          "text": [
            "0 청량리\n",
            "1 성북\n",
            "2 의정부\n",
            "3 소요산\n"
          ],
          "name": "stdout"
        }
      ]
    },
    {
      "cell_type": "code",
      "metadata": {
        "colab": {
          "base_uri": "https://localhost:8080/"
        },
        "id": "g-13_l8ZDWh2",
        "outputId": "e2d60721-d4c2-49d9-9587-063aff77e05f"
      },
      "source": [
        "sum = lambda a, b : a+b\n",
        "sum(2,3)"
      ],
      "execution_count": null,
      "outputs": [
        {
          "output_type": "execute_result",
          "data": {
            "text/plain": [
              "5"
            ]
          },
          "metadata": {
            "tags": []
          },
          "execution_count": 11
        }
      ]
    },
    {
      "cell_type": "code",
      "metadata": {
        "colab": {
          "base_uri": "https://localhost:8080/"
        },
        "id": "bgpB7AiQE6oE",
        "outputId": "c03c34ab-26c0-42fa-9828-52e5c118afba"
      },
      "source": [
        "def getFare(station):\n",
        "    for stationfare in stationfares:\n",
        "        if stationfare[\"station\"] == station:\n",
        "            return stationfare[\"fare\"]\n",
        "\n",
        "fare = getFare(\"청량리\")\n",
        "print(fare)"
      ],
      "execution_count": null,
      "outputs": [
        {
          "output_type": "stream",
          "text": [
            "1500\n"
          ],
          "name": "stdout"
        }
      ]
    },
    {
      "cell_type": "code",
      "metadata": {
        "colab": {
          "base_uri": "https://localhost:8080/"
        },
        "id": "EcOgKLMJFlWX",
        "outputId": "16407a01-e48f-4b55-fd04-ab57ad871715"
      },
      "source": [
        "for station in stations:\n",
        "    print(station, getFare(station))"
      ],
      "execution_count": null,
      "outputs": [
        {
          "output_type": "stream",
          "text": [
            "청량리 1500\n",
            "성북 1800\n",
            "의정부 2000\n",
            "소요산 2500\n"
          ],
          "name": "stdout"
        }
      ]
    }
  ]
}