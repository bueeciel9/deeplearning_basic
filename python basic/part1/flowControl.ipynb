{
  "nbformat": 4,
  "nbformat_minor": 0,
  "metadata": {
    "colab": {
      "name": "flowControl.ipynb",
      "provenance": [],
      "collapsed_sections": []
    },
    "kernelspec": {
      "name": "python3",
      "display_name": "Python 3"
    }
  },
  "cells": [
    {
      "cell_type": "markdown",
      "metadata": {
        "id": "FnKQrZYQbr9a"
      },
      "source": [
        "#1. Condition"
      ]
    },
    {
      "cell_type": "code",
      "metadata": {
        "id": "FnXSvsdIVIVj",
        "colab": {
          "base_uri": "https://localhost:8080/"
        },
        "outputId": "2ee17ff2-80c5-40ac-c731-bf4fceadd3ba"
      },
      "source": [
        "name = input('What is your name : ')"
      ],
      "execution_count": 3,
      "outputs": [
        {
          "output_type": "stream",
          "text": [
            "What is your name : cat\n"
          ],
          "name": "stdout"
        }
      ]
    },
    {
      "cell_type": "code",
      "metadata": {
        "id": "YUMr0X-uV8j7"
      },
      "source": [
        "if name == 'bird':\n",
        "    print(\"I could fly to you\")\n",
        "else:\n",
        "    print(\"I could walk to you\")    "
      ],
      "execution_count": null,
      "outputs": []
    },
    {
      "cell_type": "code",
      "metadata": {
        "colab": {
          "base_uri": "https://localhost:8080/"
        },
        "id": "KH6Ru-CG06QM",
        "outputId": "10305f9d-8316-42d7-c58c-51b94f297be6"
      },
      "source": [
        "if name == 'bird':\n",
        "    print(\"I could fly to you\")\n",
        "elif name == 'pig':\n",
        "    print(\"I could walk to you\")\n",
        "else:\n",
        "    print(\"I could stay to you\")    "
      ],
      "execution_count": 4,
      "outputs": [
        {
          "output_type": "stream",
          "text": [
            "I could stay to you\n"
          ],
          "name": "stdout"
        }
      ]
    },
    {
      "cell_type": "markdown",
      "metadata": {
        "id": "u5cfsbf0b0A_"
      },
      "source": [
        "#2. Loop"
      ]
    },
    {
      "cell_type": "code",
      "metadata": {
        "id": "cYgY4wtoXTWM"
      },
      "source": [
        "num = int(input('Multiplication table of : '))"
      ],
      "execution_count": null,
      "outputs": []
    },
    {
      "cell_type": "code",
      "metadata": {
        "id": "bnKwTJdJX-j1"
      },
      "source": [
        "for i in range(1, 10):\n",
        "    print(num, 'X', i, '=', num*i)"
      ],
      "execution_count": null,
      "outputs": []
    },
    {
      "cell_type": "code",
      "metadata": {
        "id": "Qou__sUPYqsu"
      },
      "source": [
        "for i in range(2, 10):\n",
        "    for j in range(1, 10):\n",
        "        print(\"%2d X %2d = %5d\" %(i, j, i*j))\n",
        "    print(\"----------------\")"
      ],
      "execution_count": null,
      "outputs": []
    },
    {
      "cell_type": "code",
      "metadata": {
        "id": "SCZa35dFZy63"
      },
      "source": [
        "num = int(input('Multiplication table of : '))\n",
        "i = 1\n",
        "while i < 10:\n",
        "    print(num, 'X', i, '=', num*i)\n",
        "    i += 1\n"
      ],
      "execution_count": null,
      "outputs": []
    },
    {
      "cell_type": "code",
      "metadata": {
        "id": "mjNVCWE2ahTW"
      },
      "source": [
        "i = 2\n",
        "while i < 10:\n",
        "    j = 1\n",
        "    while j < 10:\n",
        "        print(\"%2d X %2d = %5d\" %(i, j, i*j))\n",
        "        j += 1\n",
        "    print(\"----------------\")\n",
        "    i += 1\n"
      ],
      "execution_count": null,
      "outputs": []
    },
    {
      "cell_type": "code",
      "metadata": {
        "id": "USE2uWFYcOKa"
      },
      "source": [
        "stationfares = [\n",
        "            {\"station\": \"청량리\", \"fare\": 1500},\n",
        "            {\"station\": \"성북\", \"fare\": 1800},\n",
        "            {\"station\": \"의정부\", \"fare\": 2000},\n",
        "            {\"station\": \"소요산\", \"fare\": 2500}\n",
        "        ]"
      ],
      "execution_count": null,
      "outputs": []
    },
    {
      "cell_type": "code",
      "metadata": {
        "id": "hqaajeANcmRA"
      },
      "source": [
        "stations = []\n",
        "fares = []\n",
        "for stationfare in stationfares:\n",
        "    stations.append(stationfare[\"station\"])\n",
        "    fares.append(stationfare[\"fare\"])\n",
        "print(stations)\n",
        "print(fares)"
      ],
      "execution_count": null,
      "outputs": []
    }
  ]
}