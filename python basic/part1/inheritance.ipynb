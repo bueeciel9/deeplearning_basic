{
  "nbformat": 4,
  "nbformat_minor": 0,
  "metadata": {
    "colab": {
      "name": "inheritance.ipynb",
      "provenance": [],
      "collapsed_sections": []
    },
    "kernelspec": {
      "name": "python3",
      "display_name": "Python 3"
    }
  },
  "cells": [
    {
      "cell_type": "markdown",
      "metadata": {
        "id": "Etq_PHIJCsbz"
      },
      "source": [
        "#1. Function"
      ]
    },
    {
      "cell_type": "code",
      "metadata": {
        "id": "3PCtoSuvjYQT"
      },
      "source": [
        "stationfares = [\n",
        "            {\"station\": \"청량리\", \"fare\": 1500},\n",
        "            {\"station\": \"성북\", \"fare\": 1800},\n",
        "            {\"station\": \"의정부\", \"fare\": 2000},\n",
        "            {\"station\": \"소요산\", \"fare\": 2500}\n",
        "        ]"
      ],
      "execution_count": 1,
      "outputs": []
    },
    {
      "cell_type": "code",
      "metadata": {
        "colab": {
          "base_uri": "https://localhost:8080/"
        },
        "id": "9hhGqnfPC6I2",
        "outputId": "a963f664-1b84-4511-96c9-9d7bdd0f10ad"
      },
      "source": [
        "stations = []\n",
        "fares = []\n",
        "for stationfare in stationfares:\n",
        "    stations.append(stationfare[\"station\"])\n",
        "    fares.append(stationfare[\"fare\"])\n",
        "print(stations)\n",
        "print(fares)"
      ],
      "execution_count": 2,
      "outputs": [
        {
          "output_type": "stream",
          "text": [
            "['청량리', '성북', '의정부', '소요산']\n",
            "[1500, 1800, 2000, 2500]\n"
          ],
          "name": "stdout"
        }
      ]
    },
    {
      "cell_type": "code",
      "metadata": {
        "colab": {
          "base_uri": "https://localhost:8080/"
        },
        "id": "GDJCiWp5DIrL",
        "outputId": "e4b7083e-5d97-4aaf-f21d-f8b8ef2096c4"
      },
      "source": [
        "len(stationfares)"
      ],
      "execution_count": 3,
      "outputs": [
        {
          "output_type": "execute_result",
          "data": {
            "text/plain": [
              "4"
            ]
          },
          "metadata": {
            "tags": []
          },
          "execution_count": 3
        }
      ]
    },
    {
      "cell_type": "code",
      "metadata": {
        "colab": {
          "base_uri": "https://localhost:8080/"
        },
        "id": "SklmK0SeDNYs",
        "outputId": "d130b11f-fd05-46cd-f4e8-ac81a8b3e922"
      },
      "source": [
        "max(fares)"
      ],
      "execution_count": 4,
      "outputs": [
        {
          "output_type": "execute_result",
          "data": {
            "text/plain": [
              "2500"
            ]
          },
          "metadata": {
            "tags": []
          },
          "execution_count": 4
        }
      ]
    },
    {
      "cell_type": "code",
      "metadata": {
        "colab": {
          "base_uri": "https://localhost:8080/"
        },
        "id": "UJfbM0SqDQgg",
        "outputId": "56f845d8-a6e8-4bc4-b532-ac25e67a07f3"
      },
      "source": [
        "min(fares)"
      ],
      "execution_count": 5,
      "outputs": [
        {
          "output_type": "execute_result",
          "data": {
            "text/plain": [
              "1500"
            ]
          },
          "metadata": {
            "tags": []
          },
          "execution_count": 5
        }
      ]
    },
    {
      "cell_type": "code",
      "metadata": {
        "colab": {
          "base_uri": "https://localhost:8080/"
        },
        "id": "OxDaTFyZDS0g",
        "outputId": "66561e8a-6991-43ce-ef4d-7ce49911ed7f"
      },
      "source": [
        "sum(fares)"
      ],
      "execution_count": 6,
      "outputs": [
        {
          "output_type": "execute_result",
          "data": {
            "text/plain": [
              "7800"
            ]
          },
          "metadata": {
            "tags": []
          },
          "execution_count": 6
        }
      ]
    },
    {
      "cell_type": "code",
      "metadata": {
        "colab": {
          "base_uri": "https://localhost:8080/"
        },
        "id": "4IMOIZ6vDYkv",
        "outputId": "8276961f-e408-4560-95d9-2f19cd1bccca"
      },
      "source": [
        "for idx, station in enumerate(stations):\n",
        "    print(idx, station)"
      ],
      "execution_count": 7,
      "outputs": [
        {
          "output_type": "stream",
          "text": [
            "0 청량리\n",
            "1 성북\n",
            "2 의정부\n",
            "3 소요산\n"
          ],
          "name": "stdout"
        }
      ]
    },
    {
      "cell_type": "code",
      "metadata": {
        "colab": {
          "base_uri": "https://localhost:8080/"
        },
        "id": "Q7RCj2iHDi4T",
        "outputId": "c278d9a4-b6b7-4dc9-c925-d63a66d77ba4"
      },
      "source": [
        "sum = lambda a, b : a+b\n",
        "sum(2, 3)"
      ],
      "execution_count": 8,
      "outputs": [
        {
          "output_type": "execute_result",
          "data": {
            "text/plain": [
              "5"
            ]
          },
          "metadata": {
            "tags": []
          },
          "execution_count": 8
        }
      ]
    },
    {
      "cell_type": "code",
      "metadata": {
        "colab": {
          "base_uri": "https://localhost:8080/"
        },
        "id": "MoCQgL5nDr2V",
        "outputId": "bae10e92-d307-4778-8450-e08c88d4fd73"
      },
      "source": [
        "def getFare(station):\n",
        "    for stationfare in stationfares:\n",
        "        if stationfare['station'] == station:\n",
        "            return stationfare['fare']\n",
        "fare = getFare(\"청량리\")\n",
        "print(fare)"
      ],
      "execution_count": 9,
      "outputs": [
        {
          "output_type": "stream",
          "text": [
            "1500\n"
          ],
          "name": "stdout"
        }
      ]
    },
    {
      "cell_type": "code",
      "metadata": {
        "colab": {
          "base_uri": "https://localhost:8080/"
        },
        "id": "bPI44tavEI37",
        "outputId": "703fa276-a7fa-4ff2-928f-001faaeb4296"
      },
      "source": [
        "for station in stations:\n",
        "    print(station, getFare(station))"
      ],
      "execution_count": 10,
      "outputs": [
        {
          "output_type": "stream",
          "text": [
            "청량리 1500\n",
            "성북 1800\n",
            "의정부 2000\n",
            "소요산 2500\n"
          ],
          "name": "stdout"
        }
      ]
    },
    {
      "cell_type": "markdown",
      "metadata": {
        "id": "E0MzO9ryES_R"
      },
      "source": [
        "#2. Class"
      ]
    },
    {
      "cell_type": "code",
      "metadata": {
        "id": "GMmu8Vl9EWsn"
      },
      "source": [
        "class Comments:\n",
        "    title               = \"#### %s 승차권 판매기입니다. ####\"\n",
        "    product_description = \"%s:%s(%s원)\"\n",
        "    insert_fare         = \"\\n요금을 넣어 주세요. : \"\n",
        "    insufficient_fare   = \"%s 요금이 부족합니다. 거스름돈은 %s원 입니다.\"\n",
        "    select_station      = \"원하시는 역번호를 선택하세요.\"\n",
        "    select_error        = \"잘못 입력하셨습니다.\"\n",
        "    finish_sale         = \"선택하신 %s 입니다. 거스름돈은 %s원 입니다.\\n감사합니다.\"\n",
        "    terminate_sale      = \"승차권 판매를 종료합니다.\"    "
      ],
      "execution_count": 11,
      "outputs": []
    },
    {
      "cell_type": "code",
      "metadata": {
        "id": "xlw6RwHMEzTB"
      },
      "source": [
        "class Products:\n",
        "    productNames = []\n",
        "    productValues = []"
      ],
      "execution_count": 12,
      "outputs": []
    },
    {
      "cell_type": "code",
      "metadata": {
        "id": "65k4BsjtFCuI"
      },
      "source": [
        "class SubwayTicket(Products):\n",
        "    _data = stationfares\n",
        "    _name = \"지하철\"\n",
        "    _status = True\n",
        "\n",
        "    def __init__(self):\n",
        "        print(Comments.title %self._name)\n",
        "\n",
        "    def set_products(self):\n",
        "        Products.productNames = []\n",
        "        Products.productValues = []\n",
        "        for stationfare in self._data:\n",
        "            Products.productNames.append(stationfare[\"station\"])\n",
        "            Products.productValues.append(stationfare[\"fare\"])\n",
        "\n",
        "    def run(self):\n",
        "        self.set_products()\n",
        "        while self._status:\n",
        "            try:\n",
        "                inputMoney = int(input(Comments.insert_fare))\n",
        "            except ValueError:\n",
        "                print(Comments.select_error)\n",
        "            else:\n",
        "                self.selectStation(inputMoney)\n",
        "    \n",
        "    def selectStation(self, money):\n",
        "        print(Comments.select_station)\n",
        "        for idx, name in enumerate(Products.productNames):\n",
        "            fare = Products.productValues[idx]\n",
        "            print(Comments.product_description %(str(idx), name, fare))\n",
        "        inputStation = int(input(Comments.select_station))\n",
        "        self.payment(money, inputStation)\n",
        "\n",
        "    def payment(self, money, idx):\n",
        "        name = Products.productNames[idx]\n",
        "        fare = Products.productValues[idx]\n",
        "        if money >= fare:\n",
        "            balance = money - fare\n",
        "            print(Comments.finish_sale %(name, str(balance)))\n",
        "        else:\n",
        "            print(Comments.insufficient_fare %(name, str(money)))"
      ],
      "execution_count": 13,
      "outputs": []
    },
    {
      "cell_type": "code",
      "metadata": {
        "colab": {
          "base_uri": "https://localhost:8080/"
        },
        "id": "Wb1NlEd-M_Nt",
        "outputId": "b7c797a4-9f90-44a9-9a9e-a278279dc75d"
      },
      "source": [
        "tm = SubwayTicket()\n",
        "\n",
        "try: \n",
        "    tm.run()\n",
        "except KeyboardInterrupt:\n",
        "    tm._status = False\n",
        "    print(Comments.terminate_sale)"
      ],
      "execution_count": 14,
      "outputs": [
        {
          "output_type": "stream",
          "text": [
            "#### 지하철 승차권 판매기입니다. ####\n",
            "\n",
            "요금을 넣어 주세요. : 3000\n",
            "원하시는 역번호를 선택하세요.\n",
            "0:청량리(1500원)\n",
            "1:성북(1800원)\n",
            "2:의정부(2000원)\n",
            "3:소요산(2500원)\n",
            "원하시는 역번호를 선택하세요.2\n",
            "선택하신 의정부 입니다. 거스름돈은 1000원 입니다.\n",
            "감사합니다.\n",
            "승차권 판매를 종료합니다.\n"
          ],
          "name": "stdout"
        }
      ]
    },
    {
      "cell_type": "markdown",
      "metadata": {
        "id": "mx9QoI9dP0Bv"
      },
      "source": [
        "#3. Inheritance"
      ]
    },
    {
      "cell_type": "code",
      "metadata": {
        "id": "cvFBzh94P324"
      },
      "source": [
        "railstationfares = [\n",
        "            {\"station\": \"천안\", \"fare\": 15000},\n",
        "            {\"station\": \"대전\", \"fare\": 20000},\n",
        "            {\"station\": \"동대구\", \"fare\": 37000},\n",
        "            {\"station\": \"부산\", \"fare\": 53000}\n",
        "        ]"
      ],
      "execution_count": 16,
      "outputs": []
    },
    {
      "cell_type": "code",
      "metadata": {
        "id": "COFB5aq7QJYs"
      },
      "source": [
        "class RailTicket(SubwayTicket):\n",
        "    _data = railstationfares\n",
        "    _name = \"고속철도\"    "
      ],
      "execution_count": 17,
      "outputs": []
    },
    {
      "cell_type": "code",
      "metadata": {
        "colab": {
          "base_uri": "https://localhost:8080/"
        },
        "id": "lMSSyTTsQp5A",
        "outputId": "8eef4d9f-950d-4679-ae7e-4787c0209904"
      },
      "source": [
        "tm = RailTicket()\n",
        "\n",
        "try: \n",
        "    tm.run()\n",
        "except KeyboardInterrupt:\n",
        "    tm._status = False\n",
        "    print(Comments.terminate_sale)"
      ],
      "execution_count": 18,
      "outputs": [
        {
          "output_type": "stream",
          "text": [
            "#### 고속철도 승차권 판매기입니다. ####\n",
            "\n",
            "요금을 넣어 주세요. : 30000\n",
            "원하시는 역번호를 선택하세요.\n",
            "0:천안(15000원)\n",
            "1:대전(20000원)\n",
            "2:동대구(37000원)\n",
            "3:부산(53000원)\n",
            "원하시는 역번호를 선택하세요.0\n",
            "선택하신 천안 입니다. 거스름돈은 15000원 입니다.\n",
            "감사합니다.\n",
            "\n",
            "요금을 넣어 주세요. : 30000\n",
            "원하시는 역번호를 선택하세요.\n",
            "0:천안(15000원)\n",
            "1:대전(20000원)\n",
            "2:동대구(37000원)\n",
            "3:부산(53000원)\n",
            "원하시는 역번호를 선택하세요.3\n",
            "부산 요금이 부족합니다. 거스름돈은 30000원 입니다.\n",
            "승차권 판매를 종료합니다.\n"
          ],
          "name": "stdout"
        }
      ]
    }
  ]
}